{
 "cells": [
  {
   "cell_type": "code",
   "execution_count": 38,
   "id": "0eec99b8",
   "metadata": {},
   "outputs": [],
   "source": [
    "# K MEANS CLUSTER"
   ]
  },
  {
   "cell_type": "code",
   "execution_count": 2,
   "id": "3c2a800f",
   "metadata": {},
   "outputs": [
    {
     "data": {
      "text/html": [
       "<div>\n",
       "<style scoped>\n",
       "    .dataframe tbody tr th:only-of-type {\n",
       "        vertical-align: middle;\n",
       "    }\n",
       "\n",
       "    .dataframe tbody tr th {\n",
       "        vertical-align: top;\n",
       "    }\n",
       "\n",
       "    .dataframe thead th {\n",
       "        text-align: right;\n",
       "    }\n",
       "</style>\n",
       "<table border=\"1\" class=\"dataframe\">\n",
       "  <thead>\n",
       "    <tr style=\"text-align: right;\">\n",
       "      <th></th>\n",
       "      <th>0</th>\n",
       "    </tr>\n",
       "  </thead>\n",
       "  <tbody>\n",
       "    <tr>\n",
       "      <th>0</th>\n",
       "      <td>15</td>\n",
       "    </tr>\n",
       "    <tr>\n",
       "      <th>1</th>\n",
       "      <td>15</td>\n",
       "    </tr>\n",
       "    <tr>\n",
       "      <th>2</th>\n",
       "      <td>16</td>\n",
       "    </tr>\n",
       "    <tr>\n",
       "      <th>3</th>\n",
       "      <td>19</td>\n",
       "    </tr>\n",
       "    <tr>\n",
       "      <th>4</th>\n",
       "      <td>19</td>\n",
       "    </tr>\n",
       "    <tr>\n",
       "      <th>5</th>\n",
       "      <td>20</td>\n",
       "    </tr>\n",
       "    <tr>\n",
       "      <th>6</th>\n",
       "      <td>20</td>\n",
       "    </tr>\n",
       "    <tr>\n",
       "      <th>7</th>\n",
       "      <td>21</td>\n",
       "    </tr>\n",
       "    <tr>\n",
       "      <th>8</th>\n",
       "      <td>22</td>\n",
       "    </tr>\n",
       "    <tr>\n",
       "      <th>9</th>\n",
       "      <td>28</td>\n",
       "    </tr>\n",
       "    <tr>\n",
       "      <th>10</th>\n",
       "      <td>35</td>\n",
       "    </tr>\n",
       "    <tr>\n",
       "      <th>11</th>\n",
       "      <td>40</td>\n",
       "    </tr>\n",
       "    <tr>\n",
       "      <th>12</th>\n",
       "      <td>41</td>\n",
       "    </tr>\n",
       "    <tr>\n",
       "      <th>13</th>\n",
       "      <td>42</td>\n",
       "    </tr>\n",
       "    <tr>\n",
       "      <th>14</th>\n",
       "      <td>43</td>\n",
       "    </tr>\n",
       "    <tr>\n",
       "      <th>15</th>\n",
       "      <td>44</td>\n",
       "    </tr>\n",
       "    <tr>\n",
       "      <th>16</th>\n",
       "      <td>60</td>\n",
       "    </tr>\n",
       "    <tr>\n",
       "      <th>17</th>\n",
       "      <td>61</td>\n",
       "    </tr>\n",
       "    <tr>\n",
       "      <th>18</th>\n",
       "      <td>65</td>\n",
       "    </tr>\n",
       "  </tbody>\n",
       "</table>\n",
       "</div>"
      ],
      "text/plain": [
       "     0\n",
       "0   15\n",
       "1   15\n",
       "2   16\n",
       "3   19\n",
       "4   19\n",
       "5   20\n",
       "6   20\n",
       "7   21\n",
       "8   22\n",
       "9   28\n",
       "10  35\n",
       "11  40\n",
       "12  41\n",
       "13  42\n",
       "14  43\n",
       "15  44\n",
       "16  60\n",
       "17  61\n",
       "18  65"
      ]
     },
     "execution_count": 2,
     "metadata": {},
     "output_type": "execute_result"
    }
   ],
   "source": [
    "import pandas as pd\n",
    "data = pd.read_csv(\"data.csv\",header = None)\n",
    "data"
   ]
  },
  {
   "cell_type": "code",
   "execution_count": 3,
   "id": "1060c2e1",
   "metadata": {},
   "outputs": [],
   "source": [
    "data = data.to_numpy()"
   ]
  },
  {
   "cell_type": "code",
   "execution_count": 4,
   "id": "8dbaf566",
   "metadata": {},
   "outputs": [],
   "source": [
    "c1 = 16\n",
    "c2 = 21\n",
    "pc1 = 0"
   ]
  },
  {
   "cell_type": "code",
   "execution_count": 5,
   "id": "e50347f8",
   "metadata": {},
   "outputs": [
    {
     "name": "stdout",
     "output_type": "stream",
     "text": [
      "16 21\n",
      "15.333333333333334 36.25\n",
      "18.555555555555557 45.9\n",
      "19.5 47.888888888888886\n"
     ]
    }
   ],
   "source": [
    "while pc1 != c1:\n",
    "    print(c1,c2)\n",
    "    i = 0\n",
    "    c1sum = 0\n",
    "    c2sum = 0\n",
    "    c1size = 0\n",
    "    c2size = 0\n",
    "    while data.size != i:\n",
    "        temp = data[i] - c1\n",
    "        if temp <0:\n",
    "            temp *= -1\n",
    "        distance1 = temp\n",
    "        temp = data[i] - c2\n",
    "        if temp <0:\n",
    "            temp *= -1\n",
    "        distance2 = temp\n",
    "        if distance1 < distance2:\n",
    "            c1size += 1\n",
    "            c1sum += int(data[i])\n",
    "        else:\n",
    "            c2size += 1\n",
    "            c2sum += int(data[i])\n",
    "        i += 1\n",
    "    pc1 = c1\n",
    "    c1 = c1sum / c1size\n",
    "    c2 = c2sum / c2size"
   ]
  },
  {
   "cell_type": "code",
   "execution_count": 6,
   "id": "e9014cd3",
   "metadata": {},
   "outputs": [
    {
     "data": {
      "text/plain": [
       "47.888888888888886"
      ]
     },
     "execution_count": 6,
     "metadata": {},
     "output_type": "execute_result"
    }
   ],
   "source": [
    "c2"
   ]
  },
  {
   "cell_type": "code",
   "execution_count": 7,
   "id": "8b537e4f",
   "metadata": {},
   "outputs": [],
   "source": [
    "i = 0\n",
    "c1arr = []\n",
    "c2arr = []\n",
    "while data.size != i:\n",
    "    distance1 = data[i] - c1\n",
    "    if distance1 < 0:\n",
    "        distance1 *= -1\n",
    "    distance2 = data[i] - c2\n",
    "    if distance2 < 0:\n",
    "        distance2 *= -1\n",
    "    if distance1 < distance2:\n",
    "        c1arr.append(int(data[i]))\n",
    "    else:\n",
    "        c2arr.append(int(data[i]))\n",
    "    i += 1"
   ]
  },
  {
   "cell_type": "code",
   "execution_count": 8,
   "id": "77cbd981",
   "metadata": {},
   "outputs": [
    {
     "data": {
      "text/plain": [
       "[15, 15, 16, 19, 19, 20, 20, 21, 22, 28]"
      ]
     },
     "execution_count": 8,
     "metadata": {},
     "output_type": "execute_result"
    }
   ],
   "source": [
    "c1arr"
   ]
  },
  {
   "cell_type": "code",
   "execution_count": 9,
   "id": "166c2d12",
   "metadata": {},
   "outputs": [
    {
     "data": {
      "text/plain": [
       "[35, 40, 41, 42, 43, 44, 60, 61, 65]"
      ]
     },
     "execution_count": 9,
     "metadata": {},
     "output_type": "execute_result"
    }
   ],
   "source": [
    "c2arr"
   ]
  }
 ],
 "metadata": {
  "kernelspec": {
   "display_name": "Python 3 (ipykernel)",
   "language": "python",
   "name": "python3"
  },
  "language_info": {
   "codemirror_mode": {
    "name": "ipython",
    "version": 3
   },
   "file_extension": ".py",
   "mimetype": "text/x-python",
   "name": "python",
   "nbconvert_exporter": "python",
   "pygments_lexer": "ipython3",
   "version": "3.9.7"
  }
 },
 "nbformat": 4,
 "nbformat_minor": 5
}
