{
 "cells": [
  {
   "cell_type": "code",
   "execution_count": 36,
   "id": "b1b26fb5",
   "metadata": {},
   "outputs": [
    {
     "name": "stdout",
     "output_type": "stream",
     "text": [
      "Iteration # 0 :\n",
      " 16 \n",
      " 22\n",
      "Iteration # 1 :\n",
      " 15.333333333333334 \n",
      " 36.25\n",
      "Iteration # 2 :\n",
      " 18.555555555555557 \n",
      " 45.9\n"
     ]
    }
   ],
   "source": [
    "import pandas as pd\n",
    "df=pd.read_csv('data.csv',header=None)\n",
    "df\n",
    "centroid1=16\n",
    "centroid2=22\n",
    "cluster1=[]\n",
    "cluster2=[]\n",
    "temp1 = []\n",
    "temp2 = []\n",
    "count=0\n",
    "iteration=0\n",
    "while(1):\n",
    "    for i in df[0]:\n",
    "        cluster1.append(abs(i-centroid1))\n",
    "        cluster2.append(abs(i-centroid2))\n",
    "        if(cluster1[count]<cluster2[count]):\n",
    "            temp1.append(i)\n",
    "        else:\n",
    "            temp2.append(i)\n",
    "        count += 1\n",
    "    prevCl1=centroid1\n",
    "    prevCl2=centroid2\n",
    "    centroid1=sum(temp1)/len(temp1)\n",
    "    centroid2=sum(temp2)/len(temp2)\n",
    "    if prevCl1==centroid1 and centroid2== prevCl2:\n",
    "        break\n",
    "    print('Iteration #',iteration, ':\\n', prevCl1,'\\n',prevCl2)\n",
    "    iteration += 1\n",
    "    temp1.clear()\n",
    "    temp2.clear()\n",
    "    cluster1.clear()\n",
    "    cluster2.clear()\n",
    "    count = 0"
   ]
  },
  {
   "cell_type": "code",
   "execution_count": 38,
   "id": "c4c2ddfb",
   "metadata": {},
   "outputs": [
    {
     "data": {
      "text/plain": [
       "19.5"
      ]
     },
     "execution_count": 38,
     "metadata": {},
     "output_type": "execute_result"
    }
   ],
   "source": [
    "centroid1"
   ]
  }
 ],
 "metadata": {
  "kernelspec": {
   "display_name": "Python 3 (ipykernel)",
   "language": "python",
   "name": "python3"
  },
  "language_info": {
   "codemirror_mode": {
    "name": "ipython",
    "version": 3
   },
   "file_extension": ".py",
   "mimetype": "text/x-python",
   "name": "python",
   "nbconvert_exporter": "python",
   "pygments_lexer": "ipython3",
   "version": "3.9.7"
  }
 },
 "nbformat": 4,
 "nbformat_minor": 5
}
