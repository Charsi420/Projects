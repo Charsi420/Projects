{
 "cells": [
  {
   "cell_type": "code",
   "execution_count": 29,
   "id": "c1b891fa",
   "metadata": {},
   "outputs": [
    {
     "name": "stdout",
     "output_type": "stream",
     "text": [
      "Enter Size of Array : 6\n",
      "Enter Value on 0 Index : 1\n",
      "Enter Value on 1 Index : 2\n",
      "Enter Value on 2 Index : 3\n",
      "Enter Value on 3 Index : 1\n",
      "Enter Value on 4 Index : 2\n",
      "Enter Value on 5 Index : 3\n",
      "Not Palindrome\n"
     ]
    }
   ],
   "source": [
    "index = 0\n",
    "array = []\n",
    "size = int(input(\"Enter Size of Array : \"))\n",
    "while index < size:\n",
    "    array.append(input(\"Enter Value on \" + str(index) + \" Index : \"))\n",
    "    index += 1\n",
    "index = 0\n",
    "temp = size - 1\n",
    "flag = False\n",
    "while index <= size / 2:\n",
    "    if array[index] != array[temp]:\n",
    "        flag = True\n",
    "        break\n",
    "    else:\n",
    "        index += 1\n",
    "        temp -= 1\n",
    "if flag:\n",
    "    print(\"Not Palindrome\")\n",
    "else:\n",
    "    print(\"Palindrome\")\n"
   ]
  },
  {
   "cell_type": "code",
   "execution_count": null,
   "id": "55135297",
   "metadata": {},
   "outputs": [],
   "source": []
  }
 ],
 "metadata": {
  "kernelspec": {
   "display_name": "Python 3 (ipykernel)",
   "language": "python",
   "name": "python3"
  },
  "language_info": {
   "codemirror_mode": {
    "name": "ipython",
    "version": 3
   },
   "file_extension": ".py",
   "mimetype": "text/x-python",
   "name": "python",
   "nbconvert_exporter": "python",
   "pygments_lexer": "ipython3",
   "version": "3.9.7"
  }
 },
 "nbformat": 4,
 "nbformat_minor": 5
}
