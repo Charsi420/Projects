{
 "cells": [
  {
   "cell_type": "code",
   "execution_count": 16,
   "id": "467b93e3",
   "metadata": {
    "scrolled": false
   },
   "outputs": [
    {
     "name": "stdout",
     "output_type": "stream",
     "text": [
      "Enter Size of Array : 10\n"
     ]
    }
   ],
   "source": [
    "index = 0\n",
    "array = []\n",
    "size = input(\"Enter Size of Array : \")\n",
    "while index < size:\n",
    "    array.append(input(\"Enter Value on \" + str(x) + \" Index : \"))"
   ]
  }
 ],
 "metadata": {
  "kernelspec": {
   "display_name": "Python 3 (ipykernel)",
   "language": "python",
   "name": "python3"
  },
  "language_info": {
   "codemirror_mode": {
    "name": "ipython",
    "version": 3
   },
   "file_extension": ".py",
   "mimetype": "text/x-python",
   "name": "python",
   "nbconvert_exporter": "python",
   "pygments_lexer": "ipython3",
   "version": "3.9.7"
  }
 },
 "nbformat": 4,
 "nbformat_minor": 5
}
