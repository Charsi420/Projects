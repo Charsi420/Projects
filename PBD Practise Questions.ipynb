{
 "cells": [
  {
   "cell_type": "markdown",
   "id": "1cc90f91",
   "metadata": {},
   "source": [
    "# Find Maximum And Minimum"
   ]
  },
  {
   "cell_type": "code",
   "execution_count": 4,
   "id": "836405fb",
   "metadata": {},
   "outputs": [
    {
     "name": "stdout",
     "output_type": "stream",
     "text": [
      "Enter 1st Value : 9\n",
      "Enter 2nd Value : 10\n",
      "10 Is Greater Than 9\n"
     ]
    }
   ],
   "source": [
    "x = int(input(\"Enter 1st Value : \"))\n",
    "y = int(input(\"Enter 2nd Value : \"))\n",
    "if x > y:\n",
    "    print(x,\"Is Greater Than\",y)\n",
    "else:\n",
    "    print(y,\"Is Greater Than\",x)"
   ]
  },
  {
   "cell_type": "code",
   "execution_count": null,
   "id": "8ffd3c3c",
   "metadata": {},
   "outputs": [],
   "source": []
  }
 ],
 "metadata": {
  "kernelspec": {
   "display_name": "Python 3 (ipykernel)",
   "language": "python",
   "name": "python3"
  },
  "language_info": {
   "codemirror_mode": {
    "name": "ipython",
    "version": 3
   },
   "file_extension": ".py",
   "mimetype": "text/x-python",
   "name": "python",
   "nbconvert_exporter": "python",
   "pygments_lexer": "ipython3",
   "version": "3.9.7"
  }
 },
 "nbformat": 4,
 "nbformat_minor": 5
}
