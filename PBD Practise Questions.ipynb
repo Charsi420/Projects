{
 "cells": [
  {
   "cell_type": "markdown",
   "id": "bd5056e9",
   "metadata": {},
   "source": [
    "# Find Maximum And Minimum"
   ]
  },
  {
   "cell_type": "code",
   "execution_count": 4,
   "id": "3be08d78",
   "metadata": {},
   "outputs": [
    {
     "name": "stdout",
     "output_type": "stream",
     "text": [
      "Enter 1st Value : 9\n",
      "Enter 2nd Value : 10\n",
      "10 Is Greater Than 9\n"
     ]
    }
   ],
   "source": [
    "x = int(input(\"Enter 1st Value : \"))\n",
    "y = int(input(\"Enter 2nd Value : \"))\n",
    "if x > y:\n",
    "    print(x,\"Is Greater Than\",y)\n",
    "else:\n",
    "    print(y,\"Is Greater Than\",x)"
   ]
  },
  {
   "cell_type": "markdown",
   "id": "38be6911",
   "metadata": {},
   "source": [
    "# Magical Date"
   ]
  },
  {
   "cell_type": "code",
   "execution_count": 7,
   "id": "50bcc7c9",
   "metadata": {},
   "outputs": [
    {
     "name": "stdout",
     "output_type": "stream",
     "text": [
      "Enter Day : 4\n",
      "Enter Month : 2\n",
      "Enter Year : 22\n",
      "Not A Magical Date.\n"
     ]
    }
   ],
   "source": [
    "day = int(input(\"Enter Day : \"))\n",
    "month = int(input(\"Enter Month : \"))\n",
    "year = int(input(\"Enter Year : \"))\n",
    "magic = day*month\n",
    "if magic == year:\n",
    "    print(\"Magical Date.\")\n",
    "else:\n",
    "    print(\"Not A Magical Date.\")"
   ]
  },
  {
   "cell_type": "markdown",
   "id": "b518d9ca",
   "metadata": {},
   "source": [
    "# Seconds Coverter "
   ]
  },
  {
   "cell_type": "code",
   "execution_count": 11,
   "id": "50ac35cf",
   "metadata": {},
   "outputs": [
    {
     "name": "stdout",
     "output_type": "stream",
     "text": [
      "Enter Seconds : 342904\n",
      "Days :  3 , Hours :  23 , Minutes :  15 , Seconds :  4\n"
     ]
    }
   ],
   "source": [
    "seconds = int(input(\"Enter Seconds : \"))\n",
    "if seconds >= 86400:\n",
    "    days = seconds // 86400\n",
    "    seconds = seconds % 86400\n",
    "    print(\"Days : \",days,end=\" , \")\n",
    "if seconds >= 3600:\n",
    "    hours = seconds // 3600\n",
    "    seconds = seconds % 3600\n",
    "    print(\"Hours : \",hours, end=\" , \")\n",
    "    hours = 3600\n",
    "if seconds >= 60:\n",
    "    minutes = seconds // 60\n",
    "    seconds = seconds % 60\n",
    "    print(\"Minutes : \",minutes, end=\" , \")\n",
    "if seconds > 0:\n",
    "    print(\"Seconds : \",seconds)\n",
    "    "
   ]
  },
  {
   "cell_type": "code",
   "execution_count": null,
   "id": "38941a05",
   "metadata": {},
   "outputs": [],
   "source": []
  }
 ],
 "metadata": {
  "kernelspec": {
   "display_name": "Python 3 (ipykernel)",
   "language": "python",
   "name": "python3"
  },
  "language_info": {
   "codemirror_mode": {
    "name": "ipython",
    "version": 3
   },
   "file_extension": ".py",
   "mimetype": "text/x-python",
   "name": "python",
   "nbconvert_exporter": "python",
   "pygments_lexer": "ipython3",
   "version": "3.9.7"
  }
 },
 "nbformat": 4,
 "nbformat_minor": 5
}
